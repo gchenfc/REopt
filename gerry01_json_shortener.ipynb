{
 "cells": [
  {
   "cell_type": "code",
   "execution_count": 1,
   "metadata": {},
   "outputs": [],
   "source": [
    "import json\n",
    "from pathlib import Path"
   ]
  },
  {
   "cell_type": "code",
   "execution_count": 6,
   "metadata": {},
   "outputs": [],
   "source": [
    "input_folder = Path('outputs/results')\n",
    "output_folder = Path('outputs/results_human_readable')\n",
    "\n",
    "keys_to_delete = [\n",
    "    'Profile', 'LoadProfileBoilerFuel', 'LoadProfileChillerThermal', 'FuelTariff', 'Storage',\n",
    "    'Generator', 'Wind', 'CHP', 'Boiler', 'ElectricChiller', 'AbsorptionChiller', 'NewBoiler',\n",
    "    'SteamTurbine', 'GHP', 'HotTES', 'ColdTES'\n",
    "]\n",
    "\n",
    "def clean_dict(obj):\n",
    "    keys = tuple(obj.keys())\n",
    "    for key in keys:\n",
    "        if key in keys_to_delete:\n",
    "            obj[key] = \"DELETED FOR READABILITY\"\n",
    "        elif isinstance(obj[key], list) and len(obj[key]) > 10:\n",
    "            obj[key] = \"DELETED FOR READABILITY\"\n",
    "        elif isinstance(obj[key], dict):\n",
    "            clean_dict(obj[key])\n",
    "\n",
    "\n",
    "for file in input_folder.iterdir():\n",
    "    with open(file, 'r') as f:\n",
    "        data = json.load(f)\n",
    "    clean_dict(data)\n",
    "    name = data['inputs']['Scenario']['Site']['address']\n",
    "    name = '_'.join(name.split()[:-1])\n",
    "    with open(output_folder / (file.stem + '_' + name + '.json'), 'w') as f:\n",
    "        json.dump(data, f, indent=2)"
   ]
  },
  {
   "cell_type": "code",
   "execution_count": null,
   "metadata": {},
   "outputs": [],
   "source": []
  }
 ],
 "metadata": {
  "kernelspec": {
   "display_name": "Python 3.9.15 ('base')",
   "language": "python",
   "name": "python3"
  },
  "language_info": {
   "codemirror_mode": {
    "name": "ipython",
    "version": 3
   },
   "file_extension": ".py",
   "mimetype": "text/x-python",
   "name": "python",
   "nbconvert_exporter": "python",
   "pygments_lexer": "ipython3",
   "version": "3.9.15"
  },
  "orig_nbformat": 4,
  "vscode": {
   "interpreter": {
    "hash": "402f513bd64bb05ccdfd11315d0c88453571d1d1d73db48414a1b2a41f771ebc"
   }
  }
 },
 "nbformat": 4,
 "nbformat_minor": 2
}
